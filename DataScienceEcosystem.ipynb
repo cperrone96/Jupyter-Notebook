{
 "cells": [
  {
   "cell_type": "markdown",
   "id": "5cb5cd83-7797-4a47-9093-7b0fd48ded54",
   "metadata": {
    "tags": []
   },
   "source": [
    "# Data Science Tools and Ecosystem"
   ]
  },
  {
   "cell_type": "markdown",
   "id": "33ed555d-4685-4c1c-8f41-57fe98805c2a",
   "metadata": {},
   "source": [
    "Data Science Tools and Ecosystem are summarized in this notebook"
   ]
  },
  {
   "cell_type": "markdown",
   "id": "2c69818a-bab9-447d-9528-f126ddf34d71",
   "metadata": {},
   "source": [
    "Objectives:"
   ]
  },
  {
   "cell_type": "markdown",
   "id": "186b40f6-43af-4686-a14a-bee24cfc8be3",
   "metadata": {},
   "source": [
    "* List popular languages for Data Science\n",
    "* List commonly used libraries for Data Science\n",
    "* Show development environment open source tools for Data Science\n",
    "* Evaluate arithmetic expressions in Python"
   ]
  },
  {
   "cell_type": "markdown",
   "id": "97eb8436-975d-46b3-ae09-b449debc0a29",
   "metadata": {},
   "source": [
    "Some of the popular languages that Data Scientists use are:"
   ]
  },
  {
   "cell_type": "markdown",
   "id": "2d11ea7e-6dcf-404a-90b1-41ef4f269816",
   "metadata": {
    "tags": []
   },
   "source": [
    "1. Python\n",
    "2. R\n",
    "3. Java\n",
    "4. Scala\n",
    "5. C++\n",
    "6. JavaScript\n",
    "7. Julia"
   ]
  },
  {
   "cell_type": "markdown",
   "id": "c73f531c-5e51-4f2e-89e4-d39cf4182540",
   "metadata": {},
   "source": [
    "Some of the commonly used libraries for Data Scientists include:"
   ]
  },
  {
   "cell_type": "markdown",
   "id": "0ba78dda-3906-4ea6-a7c6-89ba101eac7c",
   "metadata": {},
   "source": [
    "1. Scientific Computing Libraries (Pandas and NumPy)\n",
    "2. Visualization Libraries (MatPlotLib and Seaborn)\n",
    "3. Machine Learning and Deep Learning Libraries (Scikit-Learn and Keras)\n",
    "4. Deep Learning Libraries (Tensorflow and PyTorch)\n",
    "5. Scala Libraries (Vegas and BigDL)"
   ]
  },
  {
   "cell_type": "markdown",
   "id": "7995445c-38bb-4593-a555-de984e363aad",
   "metadata": {},
   "source": [
    "| Data Science Tools|\n",
    "| ------ |\n",
    "| Spyder |\n",
    "| R Studio |\n",
    "| Jupyter Notebooks |"
   ]
  },
  {
   "cell_type": "markdown",
   "id": "b82f15a3-ceeb-476b-b4db-c20a17870c78",
   "metadata": {},
   "source": [
    "### Below are a few examples of evaluating arithmetic expressions in Python"
   ]
  },
  {
   "cell_type": "code",
   "execution_count": 1,
   "id": "9b8c07f0-f017-4659-a43f-d9eb8929c65f",
   "metadata": {
    "tags": []
   },
   "outputs": [
    {
     "data": {
      "text/plain": [
       "17"
      ]
     },
     "execution_count": 1,
     "metadata": {},
     "output_type": "execute_result"
    }
   ],
   "source": [
    "# This is a simple arithmetic expression to multiply then add integers\n",
    "(3*4)+5"
   ]
  },
  {
   "cell_type": "code",
   "execution_count": 2,
   "id": "12396196-041a-4a78-bb7f-8e6679aad4a9",
   "metadata": {
    "tags": []
   },
   "outputs": [
    {
     "data": {
      "text/plain": [
       "3.3333333333333335"
      ]
     },
     "execution_count": 2,
     "metadata": {},
     "output_type": "execute_result"
    }
   ],
   "source": [
    "# this will convert 200 minutes to hours by dividing by 60\n",
    "200/60"
   ]
  },
  {
   "cell_type": "markdown",
   "id": "0f293ae3-aede-4bf6-80ae-9ee87be10da6",
   "metadata": {},
   "source": [
    "## Author"
   ]
  },
  {
   "cell_type": "markdown",
   "id": "19ff60a7-3807-4d7d-941c-80c2b359990f",
   "metadata": {},
   "source": [
    "Christina Perrone"
   ]
  }
 ],
 "metadata": {
  "kernelspec": {
   "display_name": "Python",
   "language": "python",
   "name": "conda-env-python-py"
  },
  "language_info": {
   "codemirror_mode": {
    "name": "ipython",
    "version": 3
   },
   "file_extension": ".py",
   "mimetype": "text/x-python",
   "name": "python",
   "nbconvert_exporter": "python",
   "pygments_lexer": "ipython3",
   "version": "3.7.12"
  }
 },
 "nbformat": 4,
 "nbformat_minor": 5
}
